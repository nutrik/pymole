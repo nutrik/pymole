{
 "cells": [
  {
   "cell_type": "markdown",
   "metadata": {},
   "source": [
    "### Solves the 1D Poisson's equation with Robin boundary conditions"
   ]
  },
  {
   "cell_type": "code",
   "execution_count": 1,
   "metadata": {},
   "outputs": [],
   "source": [
    "import numpy as np\n",
    "from scipy.sparse.linalg import spsolve"
   ]
  },
  {
   "cell_type": "code",
   "execution_count": 2,
   "metadata": {},
   "outputs": [],
   "source": [
    "from core import *"
   ]
  },
  {
   "cell_type": "code",
   "execution_count": 3,
   "metadata": {},
   "outputs": [],
   "source": [
    "import matplotlib.pyplot as plt\n",
    "%matplotlib inline"
   ]
  },
  {
   "cell_type": "code",
   "execution_count": 4,
   "metadata": {},
   "outputs": [
    {
     "name": "stderr",
     "output_type": "stream",
     "text": [
      "/Users/nutrik/Documents/Science/scodes/Python/mole/core/div.py:51: SparseEfficiencyWarning: Changing the sparsity structure of a csr_matrix is expensive. lil_matrix is more efficient.\n",
      "  D[i, j:j+k] = coeffs\n",
      "/Users/nutrik/Documents/Science/scodes/Python/mole/core/div.py:70: SparseEfficiencyWarning: Changing the sparsity structure of a csr_matrix is expensive. lil_matrix is more efficient.\n",
      "  A[i, 0:q] = coeffs\n",
      "/Users/nutrik/Documents/Science/scodes/Python/mole/core/div.py:76: SparseEfficiencyWarning: Changing the sparsity structure of a csr_matrix is expensive. lil_matrix is more efficient.\n",
      "  D[1:p+1, 0:q] = A\n",
      "/Users/nutrik/Documents/Science/scodes/Python/mole/core/div.py:92: SparseEfficiencyWarning: Changing the sparsity structure of a csr_matrix is expensive. lil_matrix is more efficient.\n",
      "  D[n_rows-p-1:n_rows-1, n_cols-q:n_cols] = A\n",
      "/Users/nutrik/Documents/Science/scodes/Python/mole/core/grad.py:51: SparseEfficiencyWarning: Changing the sparsity structure of a csr_matrix is expensive. lil_matrix is more efficient.\n",
      "  G[i, j:j+k] = coeffs\n",
      "/Users/nutrik/Documents/Science/scodes/Python/mole/core/grad.py:70: SparseEfficiencyWarning: Changing the sparsity structure of a csr_matrix is expensive. lil_matrix is more efficient.\n",
      "  A[i, 0:q] = coeffs\n",
      "/Users/nutrik/Documents/Science/scodes/Python/mole/core/grad.py:76: SparseEfficiencyWarning: Changing the sparsity structure of a csr_matrix is expensive. lil_matrix is more efficient.\n",
      "  G[0:p, 0:q] = A\n",
      "/Users/nutrik/Documents/Science/scodes/Python/mole/core/grad.py:93: SparseEfficiencyWarning: Changing the sparsity structure of a csr_matrix is expensive. lil_matrix is more efficient.\n",
      "  G[n_rows-p:n_rows,n_cols-q:n_cols] = A\n",
      "/Users/nutrik/Documents/Science/scodes/Python/mole/core/robinBC.py:25: SparseEfficiencyWarning: Changing the sparsity structure of a csr_matrix is expensive. lil_matrix is more efficient.\n",
      "  A[0, 0] = a\n",
      "/Users/nutrik/Documents/Science/scodes/Python/mole/core/robinBC.py:26: SparseEfficiencyWarning: Changing the sparsity structure of a csr_matrix is expensive. lil_matrix is more efficient.\n",
      "  A[-1, -1] = a\n",
      "/Users/nutrik/Documents/Science/scodes/Python/mole/core/robinBC.py:29: SparseEfficiencyWarning: Changing the sparsity structure of a csr_matrix is expensive. lil_matrix is more efficient.\n",
      "  B[0, 0] = -b\n",
      "/Users/nutrik/Documents/Science/scodes/Python/mole/core/robinBC.py:30: SparseEfficiencyWarning: Changing the sparsity structure of a csr_matrix is expensive. lil_matrix is more efficient.\n",
      "  B[-1, -1] = b\n"
     ]
    }
   ],
   "source": [
    "# Domain's limits\n",
    "west = 0\n",
    "east = 1\n",
    "\n",
    "k = 6  # Operator's order of accuracy\n",
    "m = 2*k + 1  # Minimum number of cells to attain the desired accuracy\n",
    "dx = (east - west) / m  # Step length\n",
    "\n",
    "# 1D Mimetic laplacian operator\n",
    "L = lap(k, m, dx)\n",
    "\n",
    "# Impose Robin BC on laplacian operator\n",
    "a = 1.\n",
    "b = 1.\n",
    "L = L + robinBC(k, m, dx, a, b)\n",
    "\n",
    "# 1D Staggered grid\n",
    "grid = np.append(np.insert(np.arange(west+dx/2, east, dx), 0, west), east)\n",
    "\n",
    "# RHS\n",
    "U = np.exp(grid)\n",
    "U[0] = 0  #  West BC\n",
    "U[-1] = 2 * np.exp(1)  #  East BC\n",
    "\n",
    "# Solve a linear system of equations\n",
    "U = spsolve(L, U) # L\\U"
   ]
  },
  {
   "cell_type": "code",
   "execution_count": 5,
   "metadata": {},
   "outputs": [
    {
     "data": {
      "image/png": "[encoded data removed]",
      "text/plain": [
       "<Figure size 432x288 with 1 Axes>"
      ]
     },
     "metadata": {
      "needs_background": "light"
     },
     "output_type": "display_data"
    }
   ],
   "source": [
    "# Plot result\n",
    "plt.plot(grid, U, 'o-')\n",
    "plt.title('Poisson''s equation with Robin BC')\n",
    "plt.xlabel('x')\n",
    "plt.ylabel('u(x)');"
   ]
  },
  {
   "cell_type": "code",
   "execution_count": null,
   "metadata": {},
   "outputs": [],
   "source": []
  }
 ],
 "metadata": {
  "kernelspec": {
   "display_name": "Python 3",
   "language": "python",
   "name": "python3"
  },
  "language_info": {
   "codemirror_mode": {
    "name": "ipython",
    "version": 3
   },
   "file_extension": ".py",
   "mimetype": "text/x-python",
   "name": "python",
   "nbconvert_exporter": "python",
   "pygments_lexer": "ipython3",
   "version": "3.6.8"
  }
 },
 "nbformat": 4,
 "nbformat_minor": 2
}
