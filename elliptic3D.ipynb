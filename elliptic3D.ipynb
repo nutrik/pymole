{
 "cells": [
  {
   "cell_type": "markdown",
   "metadata": {},
   "source": [
    "### 3D Staggering example using a 3D Mimetic laplacian"
   ]
  },
  {
   "cell_type": "code",
   "execution_count": 1,
   "metadata": {},
   "outputs": [],
   "source": [
    "import numpy as np\n",
    "from scipy.sparse.linalg import spsolve"
   ]
  },
  {
   "cell_type": "code",
   "execution_count": 2,
   "metadata": {},
   "outputs": [],
   "source": [
    "from core import *"
   ]
  },
  {
   "cell_type": "code",
   "execution_count": 3,
   "metadata": {},
   "outputs": [],
   "source": [
    "import matplotlib.pyplot as plt\n",
    "%matplotlib inline"
   ]
  },
  {
   "cell_type": "code",
   "execution_count": 4,
   "metadata": {},
   "outputs": [
    {
     "name": "stderr",
     "output_type": "stream",
     "text": [
      "/Users/nutrik/Documents/Science/scodes/Python/pymole/core/div3D.py:27: SparseEfficiencyWarning: Changing the sparsity structure of a csr_matrix is expensive. lil_matrix is more efficient.\n",
      "  Im[1:m+1, :] = sparse.eye(m, m, dtype=np.float, format='csr')\n",
      "/Users/nutrik/Documents/Science/scodes/Python/pymole/core/div3D.py:28: SparseEfficiencyWarning: Changing the sparsity structure of a csr_matrix is expensive. lil_matrix is more efficient.\n",
      "  In[1:n+1, :] = sparse.eye(n, n, dtype=np.float, format='csr')\n",
      "/Users/nutrik/Documents/Science/scodes/Python/pymole/core/div3D.py:29: SparseEfficiencyWarning: Changing the sparsity structure of a csr_matrix is expensive. lil_matrix is more efficient.\n",
      "  Io[1:o+1, :] = sparse.eye(o, o, dtype=np.float, format='csr')\n",
      "/Users/nutrik/Documents/Science/scodes/Python/pymole/core/div1D.py:53: SparseEfficiencyWarning: Changing the sparsity structure of a csr_matrix is expensive. lil_matrix is more efficient.\n",
      "  D[i, j:j+k] = coeffs\n",
      "/Users/nutrik/Documents/Science/scodes/Python/pymole/core/grad1D.py:52: SparseEfficiencyWarning: Changing the sparsity structure of a csr_matrix is expensive. lil_matrix is more efficient.\n",
      "  G[i, j:j+k] = coeffs\n",
      "/Users/nutrik/Documents/Science/scodes/Python/pymole/core/grad1D.py:72: SparseEfficiencyWarning: Changing the sparsity structure of a csr_matrix is expensive. lil_matrix is more efficient.\n",
      "  A[i, 0:q] = coeffs\n",
      "/Users/nutrik/Documents/Science/scodes/Python/pymole/core/grad1D.py:78: SparseEfficiencyWarning: Changing the sparsity structure of a csr_matrix is expensive. lil_matrix is more efficient.\n",
      "  G[0:p, 0:q] = A\n",
      "/Users/nutrik/Documents/Science/scodes/Python/pymole/core/grad1D.py:95: SparseEfficiencyWarning: Changing the sparsity structure of a csr_matrix is expensive. lil_matrix is more efficient.\n",
      "  G[n_rows-p:n_rows, n_cols-q:n_cols] = A\n",
      "/Users/nutrik/Documents/Science/scodes/Python/pymole/core/grad3D.py:31: SparseEfficiencyWarning: Changing the sparsity structure of a csr_matrix is expensive. lil_matrix is more efficient.\n",
      "  Im[1:m+1, :] = sparse.eye(m, m, dtype=np.float, format='csr')\n",
      "/Users/nutrik/Documents/Science/scodes/Python/pymole/core/grad3D.py:32: SparseEfficiencyWarning: Changing the sparsity structure of a csr_matrix is expensive. lil_matrix is more efficient.\n",
      "  In[1:n+1, :] = sparse.eye(n, n, dtype=np.float, format='csr')\n",
      "/Users/nutrik/Documents/Science/scodes/Python/pymole/core/grad3D.py:33: SparseEfficiencyWarning: Changing the sparsity structure of a csr_matrix is expensive. lil_matrix is more efficient.\n",
      "  Io[1:o+1, :] = sparse.eye(o, o, dtype=np.float, format='csr')\n",
      "/Users/nutrik/anaconda3/lib/python3.6/site-packages/ipykernel_launcher.py:9: SparseEfficiencyWarning: Changing the sparsity structure of a csr_matrix is expensive. lil_matrix is more efficient.\n",
      "  if __name__ == '__main__':\n"
     ]
    }
   ],
   "source": [
    "m = 5  # -> 7\n",
    "n = 6  # -> 8\n",
    "o = 7  # -> 9\n",
    "\n",
    "L = lap3D(2, m, 1, n, 1, o, 1)  # 3D Mimetic laplacian operator\n",
    "\n",
    "for i in range((m+2)*(n+2)*(o+2)):\n",
    "    if L[i,i] == 0:\n",
    "        L[i,i] = 1  # Impose Dirichlet BC\n",
    "\n",
    "RHS = np.zeros((m+2, n+2, o+2), dtype=np.float)\n",
    "\n",
    "RHS[..., 0] = 100  # Known value at the cube's front face\n",
    "\n",
    "RHS = np.reshape(RHS, ((m+2)*(n+2)*(o+2)), order='F')\n",
    "\n",
    "SOL = spsolve(L, RHS)  # L\\RHS\n",
    "\n",
    "SOL = np.reshape(SOL, ((m+2), (n+2), (o+2)), order='F')"
   ]
  },
  {
   "cell_type": "code",
   "execution_count": 5,
   "metadata": {},
   "outputs": [
    {
     "data": {
      "image/png": "[encoded data removed]",
      "text/plain": [
       "<Figure size 432x288 with 2 Axes>"
      ]
     },
     "metadata": {
      "needs_background": "light"
     },
     "output_type": "display_data"
    }
   ],
   "source": [
    "p = 1 #  Page to be displayed\n",
    "page = SOL[..., p]\n",
    "\n",
    "cs = plt.imshow(page.T)\n",
    "plt.colorbar(cs)\n",
    "plt.title('Poisson''s eq-n with Dirichlet BC: slice - {}'.format(p))\n",
    "plt.xlabel('m')\n",
    "plt.ylabel('n');"
   ]
  }
 ],
 "metadata": {
  "kernelspec": {
   "display_name": "Python 3",
   "language": "python",
   "name": "python3"
  },
  "language_info": {
   "codemirror_mode": {
    "name": "ipython",
    "version": 3
   },
   "file_extension": ".py",
   "mimetype": "text/x-python",
   "name": "python",
   "nbconvert_exporter": "python",
   "pygments_lexer": "ipython3",
   "version": "3.6.8"
  }
 },
 "nbformat": 4,
 "nbformat_minor": 2
}
